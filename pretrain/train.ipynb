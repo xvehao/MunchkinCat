{
 "cells": [
  {
   "cell_type": "code",
   "execution_count": null,
   "id": "576e9afd",
   "metadata": {},
   "outputs": [],
   "source": [
    "from torch.utils.data import DataLoader\n",
    "import sys \n",
    "import torch\n",
    "from torch import einsum\n",
    "from torch import nn\n",
    "sys.path.append(\"/mnt/DATA-4/hx/Ruipath/MunchkinCat\")\n",
    "sys.path.append(\"/mnt/DATA-4/hx/Ruipath/scFoundation/model/\")\n",
    "# from model_finetune import *\n",
    "from data_loader import *\n",
    "from models import *"
   ]
  },
  {
   "cell_type": "code",
   "execution_count": null,
   "id": "2821f0f2",
   "metadata": {},
   "outputs": [],
   "source": [
    "# slide_ids, slide_patch_ids = Get_hest_meta()\n",
    "device = torch.device('cuda:0' if torch.cuda.is_available() else 'cpu')"
   ]
  },
  {
   "cell_type": "code",
   "execution_count": null,
   "id": "2f44140c",
   "metadata": {},
   "outputs": [],
   "source": [
    "dataset = HESTDataset(\n",
    "    data_root=\"/mnt/DATA-4/hx/Ruipath/hest_data\"\n",
    ")"
   ]
  },
  {
   "cell_type": "code",
   "execution_count": null,
   "id": "b4fd3884",
   "metadata": {},
   "outputs": [],
   "source": [
    "local_dir = \"/mnt/DATA-4/hx/Ruipath/RuiPathViT/Ruipath_visionfoundation_v1.bin\"\n",
    "ruipathvit = RuiPathViT(local_dir, device)\n",
    "ruipathvit.build()"
   ]
  },
  {
   "cell_type": "code",
   "execution_count": null,
   "id": "38c974cd",
   "metadata": {},
   "outputs": [],
   "source": [
    "ckpt_path = \"/mnt/DATA-4/hx/Ruipath/scFoundation/model/models/models.ckpt\"\n",
    "out_dim = ruipathvit.model.num_features\n",
    "sc_model = scFoundation(ckpt_path, out_dim, device)\n",
    "sc_model.build()"
   ]
  },
  {
   "cell_type": "code",
   "execution_count": null,
   "id": "a2eefcc2",
   "metadata": {},
   "outputs": [],
   "source": [
    "import torch.optim as optim\n",
    "\n",
    "train_loader = DataLoader(dataset, batch_size=32, shuffle=True, num_workers=0)   \n",
    "model = RuiPathST(ruipathvit, sc_model).cuda()\n",
    "\n",
    "# 使用自定义 criterion（这里不需要 nn.CrossEntropyLoss）\n",
    "optimizer = optim.Adam(model.parameters(), lr=1e-3)\n",
    "\n",
    "for epoch in range(3):\n",
    "    model.train()\n",
    "    running_loss = 0.0\n",
    "    for i, (images, genes) in enumerate(train_loader):  # 假设 dataloader 返回图像+基因\n",
    "        images = images.cuda()\n",
    "        genes = genes.cuda()\n",
    "\n",
    "        optimizer.zero_grad()\n",
    "        loss = model(images, genes)  # 假设模型这样设计\n",
    "        loss.backward()\n",
    "        optimizer.step()\n",
    "\n",
    "        running_loss += loss.item()\n",
    "        num_batches = i + 1\n",
    "        avg_loss = running_loss / num_batches\n",
    "        if i % 3 == 0:\n",
    "            print(f'Epoch [{epoch+1}/{3}], Step [{i+1}/{len(train_loader)}], \\\n",
    "                  Total Loss: {running_loss:.4f}, Avg Loss: {avg_loss:.4f}')\n",
    "\n",
    "    # 验证部分（可选，InfoNCE 通常不直接验证 accuracy）\n",
    "    print(f\"Loss on epoch {epoch+1}: {running_loss / len(train_loader):.4f}\")\n",
    "\n",
    "torch.save(model.state_dict(), \"/mnt/DATA-4/hx/Ruipath/RuiPathST_ckp/model_epoch3.pth\")\n",
    "print(f\"Model saved to /mnt/DATA-4/hx/Ruipath/RuiPathST_ckp/mnt/DATA-4/hx/Ruipath/RuiPathST_ckp/model_epoch3.pth\")"
   ]
  }
 ],
 "metadata": {
  "kernelspec": {
   "display_name": "UNI",
   "language": "python",
   "name": "python3"
  },
  "language_info": {
   "codemirror_mode": {
    "name": "ipython",
    "version": 3
   },
   "file_extension": ".py",
   "mimetype": "text/x-python",
   "name": "python",
   "nbconvert_exporter": "python",
   "pygments_lexer": "ipython3",
   "version": "3.10.19"
  }
 },
 "nbformat": 4,
 "nbformat_minor": 5
}
